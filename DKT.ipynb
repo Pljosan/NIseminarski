{
 "cells": [
  {
   "cell_type": "markdown",
   "metadata": {},
   "source": [
    "# Diskretna kosinusna transformacija\n",
    "&nbsp;\n",
    "\n",
    "***Diskretna kosinusna transformacija*** data je formulom:\n",
    "\n",
    "$$X_k=\\sum_{n=0}^{N−1}x_n\\cos[\\frac{\\pi}{N}(n+\\frac{1}{2})k] \\quad \\quad k = 0,\\dots ,N−1 $$\n",
    "\n",
    "S obzirom da su bazne funkcije realne kosinusne funkcije, signali koje kompresujemo moraju takođe biti realni. \n",
    "\n",
    "Transformacija DKT-om daje manje koeficijente kad se koristi na prirodnim slikama i zvukovima što je čini najboljom metodom u raznim primenama, uključujući i *JPEG* kompresiju slika i *lossy* kompresiju zvukova.\n",
    "\n",
    "&nbsp;\n",
    "\n",
    "***Inverzna diskretna kosinusna transformacija*** je data formulom:\n",
    "\n",
    "$$X_k = \\frac{1}{2}x_0 + \\sum _{n=1}^{N-1}x_n \\cos[\\frac{\\pi}{N}n(k+\\frac{1}{2})] \\quad \\quad k=0,\\dots ,N-1 $$"
   ]
  },
  {
   "cell_type": "code",
   "execution_count": null,
   "metadata": {},
   "outputs": [],
   "source": []
  },
  {
   "cell_type": "code",
   "execution_count": null,
   "metadata": {},
   "outputs": [],
   "source": []
  }
 ],
 "metadata": {
  "kernelspec": {
   "display_name": "Python 3",
   "language": "python",
   "name": "python3"
  },
  "language_info": {
   "codemirror_mode": {
    "name": "ipython",
    "version": 3
   },
   "file_extension": ".py",
   "mimetype": "text/x-python",
   "name": "python",
   "nbconvert_exporter": "python",
   "pygments_lexer": "ipython3",
   "version": "3.6.7"
  }
 },
 "nbformat": 4,
 "nbformat_minor": 2
}
