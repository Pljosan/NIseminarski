{
 "cells": [
  {
   "cell_type": "code",
   "execution_count": 1,
   "metadata": {},
   "outputs": [],
   "source": [
    "import numpy as np\n",
    "from numpy import fft\n",
    "\n",
    "from scipy.fftpack import dct, idct\n",
    "from scipy.io import wavfile\n",
    "\n",
    "from PIL import Image\n",
    "\n",
    "from matplotlib import pyplot as plt\n",
    "%matplotlib inline"
   ]
  },
  {
   "cell_type": "markdown",
   "metadata": {},
   "source": [
    "Implementacija DKT po formuli"
   ]
  },
  {
   "cell_type": "code",
   "execution_count": 2,
   "metadata": {},
   "outputs": [],
   "source": [
    "def u(k):\n",
    "    if k == 0:\n",
    "        return 1\n",
    "    else:\n",
    "        return 1/np.sqrt(2)"
   ]
  },
  {
   "cell_type": "code",
   "execution_count": 3,
   "metadata": {},
   "outputs": [],
   "source": [
    "def my_dct(data):\n",
    "    N = data.shape[0]\n",
    "    coefs = np.zeros(data.shape)\n",
    "    \n",
    "    for k in range(N):\n",
    "        part_sum = 0\n",
    "        angle_part = np.pi*k/(2*N)\n",
    "        for n in range(N):\n",
    "            part_sum += x[n] * np.cos(angle_part*(2*n+1))\n",
    "    \n",
    "        coefs[k] = u(k) * part_sum \n",
    "    return coefs"
   ]
  },
  {
   "cell_type": "markdown",
   "metadata": {},
   "source": [
    "Implementacija brze DKT, pomocu FFT"
   ]
  },
  {
   "cell_type": "code",
   "execution_count": 4,
   "metadata": {},
   "outputs": [],
   "source": [
    "def my_dct_using_fft(data):\n",
    "    N = data.shape[0]\n",
    "    \n",
    "    # DCT je ekivalentan DFT-u velicine 4N, ciji su parni indeksi jednaki 0 \n",
    "    # Ako je nas signal 1 2 3\n",
    "    # ovo pravi signal 0 1 0 2 0 3 0 3 0 2 0 1\n",
    "    new_signal              = np.zeros(4 * N)\n",
    "    new_signal[1 : 2*N : 2] = data\n",
    "    new_signal[2*N+1 : : 2] = data[::-1]\n",
    "    \n",
    "\n",
    "    coefs = fft.fft(new_signal)[:N]\n",
    "    # Vracamo samo realni deo jer DKT radi sa realnim \n",
    "    return coefs.real"
   ]
  },
  {
   "cell_type": "markdown",
   "metadata": {},
   "source": [
    "Ucitavanje zvuka. Koristi se svaki 800 element, jer je my_dct izuzetno sporo radila"
   ]
  },
  {
   "cell_type": "code",
   "execution_count": 5,
   "metadata": {},
   "outputs": [
    {
     "name": "stdout",
     "output_type": "stream",
     "text": [
      "(2048000,)\n"
     ]
    }
   ],
   "source": [
    "Fs, x = wavfile.read('zvuk.wav')\n",
    "print(x.shape)\n",
    "x = x[::800]"
   ]
  },
  {
   "cell_type": "markdown",
   "metadata": {},
   "source": [
    "Uporedjivanje implementacija sa scipy DKT. \n",
    "\n",
    "Ugradjena scipy **dct** i implementacija pomocu fft su u istoj klasi slozenosti, razlikuju se samo za konstantu "
   ]
  },
  {
   "cell_type": "code",
   "execution_count": 6,
   "metadata": {},
   "outputs": [
    {
     "name": "stdout",
     "output_type": "stream",
     "text": [
      "1min 1s ± 3.67 s per loop (mean ± std. dev. of 7 runs, 1 loop each)\n"
     ]
    }
   ],
   "source": [
    "timeit test = my_dct(x)"
   ]
  },
  {
   "cell_type": "code",
   "execution_count": 7,
   "metadata": {},
   "outputs": [
    {
     "name": "stdout",
     "output_type": "stream",
     "text": [
      "87.3 µs ± 12.2 µs per loop (mean ± std. dev. of 7 runs, 10000 loops each)\n"
     ]
    }
   ],
   "source": [
    "timeit test = dct(x)"
   ]
  },
  {
   "cell_type": "code",
   "execution_count": 8,
   "metadata": {},
   "outputs": [
    {
     "name": "stdout",
     "output_type": "stream",
     "text": [
      "149 µs ± 7.78 µs per loop (mean ± std. dev. of 7 runs, 1000 loops each)\n"
     ]
    }
   ],
   "source": [
    "timeit test = my_dct_using_fft(x)"
   ]
  },
  {
   "cell_type": "markdown",
   "metadata": {},
   "source": [
    "Implementacija 2D DKT preko naivne DKT, preko scipy dct i preko DKT pomocu FFT "
   ]
  },
  {
   "cell_type": "code",
   "execution_count": 9,
   "metadata": {},
   "outputs": [],
   "source": [
    "def my_dct_2(img):\n",
    "    return my_dct(my_dct(img.T).T)"
   ]
  },
  {
   "cell_type": "code",
   "execution_count": 10,
   "metadata": {},
   "outputs": [],
   "source": [
    "def dct_2(img):\n",
    "    return dct(dct(img.T, norm='ortho').T, norm='ortho')"
   ]
  },
  {
   "cell_type": "code",
   "execution_count": 11,
   "metadata": {},
   "outputs": [],
   "source": [
    "def fdct_2(img):\n",
    "    M = img.shape[0]\n",
    "    N = img.shape[1]\n",
    "    a = np.empty([M,N],float)\n",
    "    b = np.empty([M,N],float)\n",
    "\n",
    "    for i in range(M):\n",
    "        a[i,:] = my_dct_using_fft(img[i,:])\n",
    "    for j in range(N):\n",
    "        b[:,j] = my_dct_using_fft(a[:,j])\n",
    "\n",
    "    return b"
   ]
  },
  {
   "cell_type": "markdown",
   "metadata": {},
   "source": [
    "Ucitavanje slike i skaliranje na 64x64 sliku, opet zbog naivne implementacije DKT"
   ]
  },
  {
   "cell_type": "code",
   "execution_count": 12,
   "metadata": {},
   "outputs": [],
   "source": [
    "img = Image.open('slika.jpg').convert('L')\n",
    "img = img.resize((64, 64), 1)\n",
    "img = np.array(img)"
   ]
  },
  {
   "cell_type": "markdown",
   "metadata": {},
   "source": [
    "Uporedjivanje naivne 2D DKT, 2D DKT pomocu ugradjene dct i 2D DKT pomocu brze DKT"
   ]
  },
  {
   "cell_type": "code",
   "execution_count": 13,
   "metadata": {},
   "outputs": [
    {
     "name": "stdout",
     "output_type": "stream",
     "text": [
      "74.8 ms ± 14.7 ms per loop (mean ± std. dev. of 7 runs, 10 loops each)\n"
     ]
    }
   ],
   "source": [
    "timeit test = my_dct_2(img)"
   ]
  },
  {
   "cell_type": "code",
   "execution_count": 14,
   "metadata": {},
   "outputs": [
    {
     "name": "stdout",
     "output_type": "stream",
     "text": [
      "191 µs ± 9.17 µs per loop (mean ± std. dev. of 7 runs, 1000 loops each)\n"
     ]
    }
   ],
   "source": [
    "timeit test = dct_2(img)"
   ]
  },
  {
   "cell_type": "code",
   "execution_count": 15,
   "metadata": {},
   "outputs": [
    {
     "name": "stdout",
     "output_type": "stream",
     "text": [
      "2.71 ms ± 1.23 ms per loop (mean ± std. dev. of 7 runs, 100 loops each)\n"
     ]
    }
   ],
   "source": [
    "timeit test = fdct_2(img)"
   ]
  }
 ],
 "metadata": {
  "kernelspec": {
   "display_name": "Python 3",
   "language": "python",
   "name": "python3"
  },
  "language_info": {
   "codemirror_mode": {
    "name": "ipython",
    "version": 3
   },
   "file_extension": ".py",
   "mimetype": "text/x-python",
   "name": "python",
   "nbconvert_exporter": "python",
   "pygments_lexer": "ipython3",
   "version": "3.7.3"
  }
 },
 "nbformat": 4,
 "nbformat_minor": 2
}
